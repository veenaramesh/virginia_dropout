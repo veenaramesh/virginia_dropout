{
  "nbformat": 4,
  "nbformat_minor": 0,
  "metadata": {
    "colab": {
      "name": "ML_Project.ipynb",
      "provenance": [],
      "collapsed_sections": []
    },
    "kernelspec": {
      "name": "python3",
      "display_name": "Python 3"
    }
  },
  "cells": [
    {
      "cell_type": "markdown",
      "metadata": {
        "id": "WvP68uIxLjgJ",
        "colab_type": "text"
      },
      "source": [
        "---\n",
        "# Team IF Statement's Checkpoint 1\n",
        "Members: Logan, Matthew, Veena"
      ]
    },
    {
      "cell_type": "code",
      "metadata": {
        "id": "HEhb0ubFO_My",
        "colab_type": "code",
        "colab": {}
      },
      "source": [
        "# Python ≥3.5 is required\n",
        "import sys\n",
        "assert sys.version_info >= (3, 5)\n",
        "\n",
        "# Scikit-Learn ≥0.20 is required\n",
        "import sklearn\n",
        "assert sklearn.__version__ >= \"0.20\"\n",
        "\n",
        "# Common imports\n",
        "import numpy as np\n",
        "import os\n",
        "\n",
        "# to make this notebook's output stable across runs\n",
        "# any number will do, as long as it is used consistently\n",
        "np.random.seed(42)\n",
        "\n",
        "# To plot pretty figures\n",
        "%matplotlib inline\n",
        "import matplotlib as mpl\n",
        "import matplotlib.pyplot as plt\n",
        "mpl.rc('axes', labelsize=14)\n",
        "mpl.rc('xtick', labelsize=12)\n",
        "mpl.rc('ytick', labelsize=12)\n",
        "\n",
        "# Ignore useless warnings (see SciPy issue #5998)\n",
        "import warnings\n",
        "warnings.filterwarnings(action=\"ignore\", message=\"^internal gelsd\")"
      ],
      "execution_count": 0,
      "outputs": []
    },
    {
      "cell_type": "code",
      "metadata": {
        "id": "AcmXaQJvQ4fz",
        "colab_type": "code",
        "outputId": "426e5b1e-918e-4f79-adf0-859c907999b9",
        "colab": {
          "base_uri": "https://localhost:8080/",
          "height": 222
        }
      },
      "source": [
        "import pandas as pd\n",
        "\n",
        "# Load all datasets\n",
        "dropout2017 = pd.read_csv(\"http://www.doe.virginia.gov/statistics_reports/research_data/data_files/dropouts/dropouts-2017-results.csv\")\n",
        "dropout2016 = pd.read_csv(\"http://www.doe.virginia.gov/statistics_reports/research_data/data_files/dropouts/dropouts-2016-results.csv\")\n",
        "dropout2015 = pd.read_csv(\"http://www.doe.virginia.gov/statistics_reports/research_data/data_files/dropouts/dropouts-2015-results.csv\")\n",
        "dropout2014 = pd.read_csv(\"http://www.doe.virginia.gov/statistics_reports/research_data/data_files/dropouts/dropouts-2014-results.csv\")\n",
        "dropout2013 = pd.read_csv(\"http://www.doe.virginia.gov/statistics_reports/research_data/data_files/dropouts/dropouts-2013-results.csv\")\n",
        "\n",
        "dropout = dropout2017.append([dropout2016, dropout2015, dropout2014, dropout2013], ignore_index=True)\n",
        "dropout.head()"
      ],
      "execution_count": 0,
      "outputs": [
        {
          "output_type": "execute_result",
          "data": {
            "text/html": [
              "<div>\n",
              "<style scoped>\n",
              "    .dataframe tbody tr th:only-of-type {\n",
              "        vertical-align: middle;\n",
              "    }\n",
              "\n",
              "    .dataframe tbody tr th {\n",
              "        vertical-align: top;\n",
              "    }\n",
              "\n",
              "    .dataframe thead th {\n",
              "        text-align: right;\n",
              "    }\n",
              "</style>\n",
              "<table border=\"1\" class=\"dataframe\">\n",
              "  <thead>\n",
              "    <tr style=\"text-align: right;\">\n",
              "      <th></th>\n",
              "      <th>SCHOOL_YEAR</th>\n",
              "      <th>LEVEL_CODE</th>\n",
              "      <th>DIV_NUM</th>\n",
              "      <th>DIV_NAME</th>\n",
              "      <th>SCH_NUM</th>\n",
              "      <th>SCH_NAME</th>\n",
              "      <th>FEDERAL_RACE_CODE</th>\n",
              "      <th>GENDER</th>\n",
              "      <th>GRADE_CODE</th>\n",
              "      <th>DISABILITY_FLAG</th>\n",
              "      <th>DISADVANTAGED_FLAG</th>\n",
              "      <th>LEP_FLAG</th>\n",
              "      <th>DROPOUT_CNT</th>\n",
              "    </tr>\n",
              "  </thead>\n",
              "  <tbody>\n",
              "    <tr>\n",
              "      <th>0</th>\n",
              "      <td>2017-2018</td>\n",
              "      <td>STATE</td>\n",
              "      <td>NaN</td>\n",
              "      <td>NaN</td>\n",
              "      <td>NaN</td>\n",
              "      <td>NaN</td>\n",
              "      <td>NaN</td>\n",
              "      <td>NaN</td>\n",
              "      <td>NaN</td>\n",
              "      <td>NaN</td>\n",
              "      <td>NaN</td>\n",
              "      <td>NaN</td>\n",
              "      <td>7541</td>\n",
              "    </tr>\n",
              "    <tr>\n",
              "      <th>1</th>\n",
              "      <td>2017-2018</td>\n",
              "      <td>STATE</td>\n",
              "      <td>NaN</td>\n",
              "      <td>NaN</td>\n",
              "      <td>NaN</td>\n",
              "      <td>NaN</td>\n",
              "      <td>NaN</td>\n",
              "      <td>NaN</td>\n",
              "      <td>NaN</td>\n",
              "      <td>NaN</td>\n",
              "      <td>NaN</td>\n",
              "      <td>N</td>\n",
              "      <td>5506</td>\n",
              "    </tr>\n",
              "    <tr>\n",
              "      <th>2</th>\n",
              "      <td>2017-2018</td>\n",
              "      <td>STATE</td>\n",
              "      <td>NaN</td>\n",
              "      <td>NaN</td>\n",
              "      <td>NaN</td>\n",
              "      <td>NaN</td>\n",
              "      <td>NaN</td>\n",
              "      <td>NaN</td>\n",
              "      <td>NaN</td>\n",
              "      <td>NaN</td>\n",
              "      <td>NaN</td>\n",
              "      <td>Y</td>\n",
              "      <td>2035</td>\n",
              "    </tr>\n",
              "    <tr>\n",
              "      <th>3</th>\n",
              "      <td>2017-2018</td>\n",
              "      <td>STATE</td>\n",
              "      <td>NaN</td>\n",
              "      <td>NaN</td>\n",
              "      <td>NaN</td>\n",
              "      <td>NaN</td>\n",
              "      <td>NaN</td>\n",
              "      <td>NaN</td>\n",
              "      <td>NaN</td>\n",
              "      <td>NaN</td>\n",
              "      <td>N</td>\n",
              "      <td>NaN</td>\n",
              "      <td>3942</td>\n",
              "    </tr>\n",
              "    <tr>\n",
              "      <th>4</th>\n",
              "      <td>2017-2018</td>\n",
              "      <td>STATE</td>\n",
              "      <td>NaN</td>\n",
              "      <td>NaN</td>\n",
              "      <td>NaN</td>\n",
              "      <td>NaN</td>\n",
              "      <td>NaN</td>\n",
              "      <td>NaN</td>\n",
              "      <td>NaN</td>\n",
              "      <td>NaN</td>\n",
              "      <td>N</td>\n",
              "      <td>N</td>\n",
              "      <td>2914</td>\n",
              "    </tr>\n",
              "  </tbody>\n",
              "</table>\n",
              "</div>"
            ],
            "text/plain": [
              "  SCHOOL_YEAR LEVEL_CODE  DIV_NUM  ... DISADVANTAGED_FLAG  LEP_FLAG DROPOUT_CNT\n",
              "0   2017-2018      STATE      NaN  ...                NaN       NaN        7541\n",
              "1   2017-2018      STATE      NaN  ...                NaN         N        5506\n",
              "2   2017-2018      STATE      NaN  ...                NaN         Y        2035\n",
              "3   2017-2018      STATE      NaN  ...                  N       NaN        3942\n",
              "4   2017-2018      STATE      NaN  ...                  N         N        2914\n",
              "\n",
              "[5 rows x 13 columns]"
            ]
          },
          "metadata": {
            "tags": []
          },
          "execution_count": 11
        }
      ]
    },
    {
      "cell_type": "code",
      "metadata": {
        "id": "9px_WqVEVa_2",
        "colab_type": "code",
        "outputId": "27bbdc95-8c3b-42bc-8112-290ab2f47dfa",
        "colab": {
          "base_uri": "https://localhost:8080/",
          "height": 329
        }
      },
      "source": [
        "dropout.info()"
      ],
      "execution_count": 0,
      "outputs": [
        {
          "output_type": "stream",
          "text": [
            "<class 'pandas.core.frame.DataFrame'>\n",
            "RangeIndex: 100046 entries, 0 to 100045\n",
            "Data columns (total 13 columns):\n",
            "SCHOOL_YEAR           100046 non-null object\n",
            "LEVEL_CODE            100046 non-null object\n",
            "DIV_NUM               90036 non-null float64\n",
            "DIV_NAME              90036 non-null object\n",
            "SCH_NUM               42190 non-null float64\n",
            "SCH_NAME              42190 non-null object\n",
            "FEDERAL_RACE_CODE     48136 non-null float64\n",
            "GENDER                47966 non-null object\n",
            "GRADE_CODE            46429 non-null float64\n",
            "DISABILITY_FLAG       48472 non-null object\n",
            "DISADVANTAGED_FLAG    48139 non-null object\n",
            "LEP_FLAG              50291 non-null object\n",
            "DROPOUT_CNT           100046 non-null int64\n",
            "dtypes: float64(4), int64(1), object(8)\n",
            "memory usage: 9.9+ MB\n"
          ],
          "name": "stdout"
        }
      ]
    },
    {
      "cell_type": "code",
      "metadata": {
        "id": "5rBkGgPx62rU",
        "colab_type": "code",
        "outputId": "18a59663-42c6-4218-a9c1-9d9f5d2b68e6",
        "colab": {
          "base_uri": "https://localhost:8080/",
          "height": 86
        }
      },
      "source": [
        "dropout.columns"
      ],
      "execution_count": 0,
      "outputs": [
        {
          "output_type": "execute_result",
          "data": {
            "text/plain": [
              "Index(['SCHOOL_YEAR', 'LEVEL_CODE', 'DIV_NUM', 'DIV_NAME', 'SCH_NUM',\n",
              "       'SCH_NAME', 'FEDERAL_RACE_CODE', 'GENDER', 'GRADE_CODE',\n",
              "       'DISABILITY_FLAG', 'DISADVANTAGED_FLAG', 'LEP_FLAG', 'DROPOUT_CNT'],\n",
              "      dtype='object')"
            ]
          },
          "metadata": {
            "tags": []
          },
          "execution_count": 24
        }
      ]
    },
    {
      "cell_type": "markdown",
      "metadata": {
        "id": "Z-XH4qmCu66I",
        "colab_type": "text"
      },
      "source": [
        "# Processing the data\n",
        "We have a few problems with the data:\n",
        "\n",
        "\n",
        "*    **Unecessary Fields**: A few of these fields are repetitive (DIV_NAME is eoncded in DIV_NUM), so we need to drop these.\n",
        "*   **Categorical Variables**: We need to encode our categorical variables, but we do need to worry about number of features (we can't just one hot encode everything). Therefore, we will sparsely encode most features to keep feature dim small.\n",
        "*    **NaN values**: The data uses NaN values as an actual value, so we need to have a difference between NaN and encoded values.\n",
        "\n",
        "The following data process solves all of these problems. We can still tweak this process a lot (perhaps go from -1, 0, 1 encoding to 0, 1, 2, or maybe do everything with dense one hot encoding).\n",
        "\n"
      ]
    },
    {
      "cell_type": "markdown",
      "metadata": {
        "id": "ropgXqUgyBpS",
        "colab_type": "text"
      },
      "source": [
        "## Custom Transformer\n",
        "We can use standard sklearn transformers for NaN values and encoding, but I want to encode the various flags on a -1, 0, 1 scale (I hoped this symmetry would keep the weight around zero. This isn't easily done with sklearn transformers, so this is a custom transformer than econdes the \"Y, N, M, F\" values appropriately (NaN is 0)."
      ]
    },
    {
      "cell_type": "code",
      "metadata": {
        "id": "tNn5CRh6yoq5",
        "colab_type": "code",
        "colab": {}
      },
      "source": [
        "from sklearn.base import BaseEstimator, TransformerMixin\n",
        "\n",
        "class replaceVals(BaseEstimator, TransformerMixin):\n",
        "    def __init__(self):\n",
        "        return\n",
        "    def fit(self, X):\n",
        "        return self \n",
        "    def transform(self, X):\n",
        "      X[X == 'Y'] = 1\n",
        "      X[X == 'N'] = -1\n",
        "      X[X == 'M'] = 1\n",
        "      X[X == 'F'] = -1\n",
        "      \n",
        "      return X"
      ],
      "execution_count": 0,
      "outputs": []
    },
    {
      "cell_type": "markdown",
      "metadata": {
        "id": "-CyWhXTGzXFk",
        "colab_type": "text"
      },
      "source": [
        "## The Pipeline"
      ]
    },
    {
      "cell_type": "markdown",
      "metadata": {
        "id": "AnXBToRRyzRH",
        "colab_type": "text"
      },
      "source": [
        "**Specify where to transform**: We need to tell our pipeline where to replace missing values and where to transform, and we can also leave out columns (which drops them)."
      ]
    },
    {
      "cell_type": "code",
      "metadata": {
        "id": "OVEI22uayyPK",
        "colab_type": "code",
        "colab": {}
      },
      "source": [
        "# These are the columns to fill missing values\n",
        "fill_cols = ['DIV_NUM', 'SCH_NUM', 'FEDERAL_RACE_CODE', 'GENDER',\n",
        "       'GRADE_CODE', 'DISABILITY_FLAG', 'DISADVANTAGED_FLAG', 'LEP_FLAG', 'DROPOUT_CNT']\n",
        "\n",
        "# We will only densely one hot encode Level Code\n",
        "one_hot_cols = [\"SCHOOL_YEAR\", \"LEVEL_CODE\"]"
      ],
      "execution_count": 0,
      "outputs": []
    },
    {
      "cell_type": "markdown",
      "metadata": {
        "id": "usVvSlNozlC6",
        "colab_type": "text"
      },
      "source": [
        "**The Pipelines**"
      ]
    },
    {
      "cell_type": "code",
      "metadata": {
        "id": "stx7n_9tVdHD",
        "colab_type": "code",
        "colab": {}
      },
      "source": [
        "from sklearn.pipeline import Pipeline\n",
        "from sklearn.compose import ColumnTransformer\n",
        "from sklearn.impute import SimpleImputer\n",
        "from sklearn.preprocessing import OneHotEncoder\n",
        "\n",
        "# Replacement pipeline Pipeline\n",
        "replacing_pipeline = Pipeline([           \n",
        "    ('imputer', SimpleImputer(missing_values=np.nan, strategy=\"constant\", fill_value=0)),\n",
        "    (\"replacements\", replaceVals()),\n",
        "])\n",
        "\n",
        "# Combined Pipeline\n",
        "full_pipeline = ColumnTransformer([\n",
        "    (\"cat\", OneHotEncoder(), one_hot_cols),\n",
        "    (\"num\", replacing_pipeline, fill_cols),\n",
        "])"
      ],
      "execution_count": 0,
      "outputs": []
    },
    {
      "cell_type": "markdown",
      "metadata": {
        "id": "tIvNGSUgzuFP",
        "colab_type": "text"
      },
      "source": [
        "## Transform data\n",
        "We will pass our data through the pipeline and then split into training and test splits. We can also try to do stratified sampling."
      ]
    },
    {
      "cell_type": "code",
      "metadata": {
        "id": "9OyNWEEmz2hp",
        "colab_type": "code",
        "outputId": "ef55c2c0-0648-4c18-ab16-c2bfdb540cf5",
        "colab": {
          "base_uri": "https://localhost:8080/",
          "height": 34
        }
      },
      "source": [
        "prepped_data = full_pipeline.fit_transform(dropout)\n",
        "# Split labels\n",
        "prepped_x = prepped_data[:,:16]\n",
        "prepped_y = prepped_data[:,16]\n",
        "print(prepped_x.shape, prepped_y.shape)"
      ],
      "execution_count": 0,
      "outputs": [
        {
          "output_type": "stream",
          "text": [
            "(100046, 16) (100046,)\n"
          ],
          "name": "stdout"
        }
      ]
    },
    {
      "cell_type": "code",
      "metadata": {
        "id": "S7okKkWgisR3",
        "colab_type": "code",
        "colab": {}
      },
      "source": [
        "from sklearn.model_selection import train_test_split\n",
        "X_train, X_test, y_train, y_test = train_test_split(prepped_x, prepped_y, test_size=0.2, random_state=42)\n",
        "X_train=X_train.astype(\"float64\")\n",
        "X_test=X_test.astype(\"float64\")\n",
        "y_train=y_train.astype(\"float64\")\n",
        "y_test=y_test.astype(\"float64\")"
      ],
      "execution_count": 0,
      "outputs": []
    },
    {
      "cell_type": "markdown",
      "metadata": {
        "id": "Y2SH8xxMz9M0",
        "colab_type": "text"
      },
      "source": [
        "# Testing Models\n",
        "We will test the following regressors:"
      ]
    },
    {
      "cell_type": "code",
      "metadata": {
        "id": "NkDkfs6704VT",
        "colab_type": "code",
        "colab": {}
      },
      "source": [
        "from sklearn.linear_model import LinearRegression\n",
        "from sklearn.ensemble import RandomForestRegressor\n",
        "from sklearn.linear_model import SGDRegressor"
      ],
      "execution_count": 0,
      "outputs": []
    },
    {
      "cell_type": "markdown",
      "metadata": {
        "id": "KJWMW55O7NMw",
        "colab_type": "text"
      },
      "source": [
        "## Linear Regression\n",
        "We will do standard linear regression as a baseline, and we don't really need to worry about hyperparameter tuning (as there aren't any hyperparameters to tune)"
      ]
    },
    {
      "cell_type": "code",
      "metadata": {
        "id": "yrNFSIPj7Mmb",
        "colab_type": "code",
        "outputId": "c989f498-d07b-48bb-ec9b-e7281d581ccf",
        "colab": {
          "base_uri": "https://localhost:8080/",
          "height": 34
        }
      },
      "source": [
        "lin_model = LinearRegression()\n",
        "lin_model.fit(X_train, y_train)"
      ],
      "execution_count": 0,
      "outputs": [
        {
          "output_type": "execute_result",
          "data": {
            "text/plain": [
              "LinearRegression(copy_X=True, fit_intercept=True, n_jobs=None, normalize=False)"
            ]
          },
          "metadata": {
            "tags": []
          },
          "execution_count": 43
        }
      ]
    },
    {
      "cell_type": "code",
      "metadata": {
        "colab_type": "code",
        "id": "Ri9sgJWA8To9",
        "outputId": "d385dd1a-2e73-4760-8f92-982f1bea2140",
        "colab": {
          "base_uri": "https://localhost:8080/",
          "height": 86
        }
      },
      "source": [
        "from sklearn.model_selection import cross_val_score\n",
        "\n",
        "scores = cross_val_score(lin_model, X_train, y_train,\n",
        "                         scoring=\"neg_mean_squared_error\", cv=10)\n",
        "tree_rmse_scores = np.sqrt(-scores)\n",
        "\n",
        "def display_scores(scores):\n",
        "    print(\"Scores:\", scores)\n",
        "    print(\"Mean:\", scores.mean())\n",
        "    print(\"Standard deviation:\", scores.std())\n",
        "\n",
        "display_scores(tree_rmse_scores)"
      ],
      "execution_count": 0,
      "outputs": [
        {
          "output_type": "stream",
          "text": [
            "Scores: [147.59398266 157.30600806 162.55301942 142.54374353 159.12090589\n",
            " 213.21836246 122.13159037 114.15308042 142.40040326 169.94796839]\n",
            "Mean: 153.09690644538782\n",
            "Standard deviation: 26.025967653694522\n"
          ],
          "name": "stdout"
        }
      ]
    },
    {
      "cell_type": "markdown",
      "metadata": {
        "id": "TmPx9LTGi5P4",
        "colab_type": "text"
      },
      "source": [
        "## Random Forest\n",
        "Here are the parameters we will test"
      ]
    },
    {
      "cell_type": "code",
      "metadata": {
        "id": "S-n7JPtwjDNE",
        "colab_type": "code",
        "colab": {}
      },
      "source": [
        "n_estimators = [10, 50, 100, 250, 375, 500, 750, 1000]\n",
        "max_features = ['auto', 'sqrt']\n",
        "max_depth = [10, 20, 30, 40, 50, 60, 70, 80, 90, 100, 110, None]\n",
        "min_samples_split = [2, 5, 10]\n",
        "min_samples_leaf = [1, 2, 4]\n",
        "bootstrap = [True, False]# Create the random grid\n",
        "\n",
        "param_distribs = {'n_estimators': n_estimators,\n",
        "               'max_features': max_features,\n",
        "               'max_depth': max_depth,\n",
        "               'min_samples_split': min_samples_split,\n",
        "               'min_samples_leaf': min_samples_leaf,\n",
        "               'bootstrap': bootstrap}"
      ],
      "execution_count": 0,
      "outputs": []
    },
    {
      "cell_type": "markdown",
      "metadata": {
        "id": "Ci9KhEr5juvH",
        "colab_type": "text"
      },
      "source": [
        "**Randomized Search**:"
      ]
    },
    {
      "cell_type": "code",
      "metadata": {
        "id": "6L39xHNE2EB7",
        "colab_type": "code",
        "outputId": "15a20f88-2b96-42ba-fbcf-40d84799f2ff",
        "colab": {
          "base_uri": "https://localhost:8080/",
          "height": 468
        }
      },
      "source": [
        "from sklearn.model_selection import RandomizedSearchCV\n",
        "\n",
        "forest_reg = RandomForestRegressor(random_state=42)\n",
        "# train across 5 folds, that's a total of ? rounds of training \n",
        "rnd_search = RandomizedSearchCV(forest_reg, param_distributions=param_distribs,\n",
        "                                n_iter=5, cv=5, scoring='neg_mean_squared_error', random_state=42)\n",
        "rnd_search.fit(X_train, y_train)"
      ],
      "execution_count": 0,
      "outputs": [
        {
          "output_type": "execute_result",
          "data": {
            "text/plain": [
              "RandomizedSearchCV(cv=5, error_score='raise-deprecating',\n",
              "                   estimator=RandomForestRegressor(bootstrap=True,\n",
              "                                                   criterion='mse',\n",
              "                                                   max_depth=None,\n",
              "                                                   max_features='auto',\n",
              "                                                   max_leaf_nodes=None,\n",
              "                                                   min_impurity_decrease=0.0,\n",
              "                                                   min_impurity_split=None,\n",
              "                                                   min_samples_leaf=1,\n",
              "                                                   min_samples_split=2,\n",
              "                                                   min_weight_fraction_leaf=0.0,\n",
              "                                                   n_estimators='warn',\n",
              "                                                   n_jobs=None, oob_score=False,\n",
              "                                                   random_sta...\n",
              "                   param_distributions={'bootstrap': [True, False],\n",
              "                                        'max_depth': [10, 20, 30, 40, 50, 60,\n",
              "                                                      70, 80, 90, 100, 110,\n",
              "                                                      None],\n",
              "                                        'max_features': ['auto', 'sqrt'],\n",
              "                                        'min_samples_leaf': [1, 2, 4],\n",
              "                                        'min_samples_split': [2, 5, 10],\n",
              "                                        'n_estimators': [10, 50, 100, 250, 375,\n",
              "                                                         500, 750, 1000]},\n",
              "                   pre_dispatch='2*n_jobs', random_state=42, refit=True,\n",
              "                   return_train_score=False, scoring='neg_mean_squared_error',\n",
              "                   verbose=0)"
            ]
          },
          "metadata": {
            "tags": []
          },
          "execution_count": 46
        }
      ]
    },
    {
      "cell_type": "markdown",
      "metadata": {
        "id": "R38QXw_RkCU-",
        "colab_type": "text"
      },
      "source": [
        "**Get the best model:**"
      ]
    },
    {
      "cell_type": "code",
      "metadata": {
        "id": "E4j-YsCZkCje",
        "colab_type": "code",
        "outputId": "bc910969-d154-4a0f-8b0d-17d2b5b0e4b0",
        "colab": {
          "base_uri": "https://localhost:8080/",
          "height": 138
        }
      },
      "source": [
        "final_rf_model = rnd_search.best_estimator_\n",
        "rnd_search.best_estimator_"
      ],
      "execution_count": 0,
      "outputs": [
        {
          "output_type": "execute_result",
          "data": {
            "text/plain": [
              "RandomForestRegressor(bootstrap=False, criterion='mse', max_depth=110,\n",
              "                      max_features='auto', max_leaf_nodes=None,\n",
              "                      min_impurity_decrease=0.0, min_impurity_split=None,\n",
              "                      min_samples_leaf=1, min_samples_split=2,\n",
              "                      min_weight_fraction_leaf=0.0, n_estimators=750,\n",
              "                      n_jobs=None, oob_score=False, random_state=42, verbose=0,\n",
              "                      warm_start=False)"
            ]
          },
          "metadata": {
            "tags": []
          },
          "execution_count": 47
        }
      ]
    },
    {
      "cell_type": "markdown",
      "metadata": {
        "id": "Zu_ESkI1kJx_",
        "colab_type": "text"
      },
      "source": [
        "**Test model**:"
      ]
    },
    {
      "cell_type": "code",
      "metadata": {
        "id": "U7zfIY2KkM1i",
        "colab_type": "code",
        "colab": {}
      },
      "source": [
        "scores = cross_val_score(final_rf_model, X_train, y_train,\n",
        "                         scoring=\"neg_mean_squared_error\", cv=10)\n",
        "tree_rmse_scores = np.sqrt(-scores)\n",
        "\n",
        "def display_scores(scores):\n",
        "    print(\"Scores:\", scores)\n",
        "    print(\"Mean:\", scores.mean())\n",
        "    print(\"Standard deviation:\", scores.std())\n",
        "\n",
        "display_scores(tree_rmse_scores)"
      ],
      "execution_count": 0,
      "outputs": []
    },
    {
      "cell_type": "markdown",
      "metadata": {
        "id": "xEwjZ8vGmKKd",
        "colab_type": "text"
      },
      "source": [
        "## SGD Regression\n",
        "Here is the parameter grid"
      ]
    },
    {
      "cell_type": "code",
      "metadata": {
        "id": "259ZVgxPmX8N",
        "colab_type": "code",
        "colab": {}
      },
      "source": [
        "loss = ['squared_loss', 'huber', 'epsilon_insensitive', 'squared_epsilon_insensitive']\n",
        "penalty = ['l1', 'l2', 'elasticnet']\n",
        "alpha = [0.0001, 0.001, 0.01, 0.1, 1, 10, 100, 1000]\n",
        "learning_rate = ['constant', 'optimal', 'invscaling', 'adaptive']\n",
        "\n",
        "param_grid = {'loss': loss,\n",
        "              'penalty': penalty,\n",
        "              'alpha': alpha,\n",
        "              'learning_rate': learning_rate}"
      ],
      "execution_count": 0,
      "outputs": []
    },
    {
      "cell_type": "markdown",
      "metadata": {
        "colab_type": "text",
        "id": "0mw_o5NvnByO"
      },
      "source": [
        "**Randomized Search**:"
      ]
    },
    {
      "cell_type": "code",
      "metadata": {
        "colab_type": "code",
        "id": "vJnhlY7ynByQ",
        "outputId": "498cd1fb-6296-4a39-e93d-324501eb6f08",
        "colab": {
          "base_uri": "https://localhost:8080/",
          "height": 491
        }
      },
      "source": [
        "sgd_model = SGDRegressor(random_state=42)\n",
        "# train across 5 folds, that's a total of ? rounds of training \n",
        "rnd_search = RandomizedSearchCV(sgd_model, param_distributions=param_grid,\n",
        "                                n_iter=25, cv=5, scoring='neg_mean_squared_error', random_state=42)\n",
        "rnd_search.fit(X_train, y_train)"
      ],
      "execution_count": 0,
      "outputs": [
        {
          "output_type": "stream",
          "text": [
            "/usr/local/lib/python3.6/dist-packages/sklearn/model_selection/_search.py:814: DeprecationWarning: The default of the `iid` parameter will change from True to False in version 0.22 and will be removed in 0.24. This will change numeric results when test-set sizes are unequal.\n",
            "  DeprecationWarning)\n"
          ],
          "name": "stderr"
        },
        {
          "output_type": "execute_result",
          "data": {
            "text/plain": [
              "RandomizedSearchCV(cv=5, error_score='raise-deprecating',\n",
              "                   estimator=SGDRegressor(alpha=0.0001, average=False,\n",
              "                                          early_stopping=False, epsilon=0.1,\n",
              "                                          eta0=0.01, fit_intercept=True,\n",
              "                                          l1_ratio=0.15,\n",
              "                                          learning_rate='invscaling',\n",
              "                                          loss='squared_loss', max_iter=1000,\n",
              "                                          n_iter_no_change=5, penalty='l2',\n",
              "                                          power_t=0.25, random_state=42,\n",
              "                                          shuffle=True, tol=0.001,\n",
              "                                          validation_fraction=0.1...\n",
              "                   param_distributions={'alpha': [0.0001, 0.001, 0.01, 0.1, 1,\n",
              "                                                  10, 100, 1000],\n",
              "                                        'learning_rate': ['constant', 'optimal',\n",
              "                                                          'invscaling',\n",
              "                                                          'adaptive'],\n",
              "                                        'loss': ['squared_loss', 'huber',\n",
              "                                                 'epsilon_insensitive',\n",
              "                                                 'squared_epsilon_insensitive'],\n",
              "                                        'penalty': ['l1', 'l2', 'elasticnet']},\n",
              "                   pre_dispatch='2*n_jobs', random_state=42, refit=True,\n",
              "                   return_train_score=False, scoring='neg_mean_squared_error',\n",
              "                   verbose=0)"
            ]
          },
          "metadata": {
            "tags": []
          },
          "execution_count": 103
        }
      ]
    },
    {
      "cell_type": "markdown",
      "metadata": {
        "colab_type": "text",
        "id": "7eJbaIX7nZgx"
      },
      "source": [
        "**Get the best model:**"
      ]
    },
    {
      "cell_type": "code",
      "metadata": {
        "colab_type": "code",
        "id": "zjJtS5mInZgz",
        "outputId": "3cf86ede-a97c-46cd-fefc-6c0d55f14b12",
        "colab": {
          "base_uri": "https://localhost:8080/",
          "height": 126
        }
      },
      "source": [
        "final_sgd_model = rnd_search.best_estimator_\n",
        "rnd_search.best_estimator_"
      ],
      "execution_count": 0,
      "outputs": [
        {
          "output_type": "execute_result",
          "data": {
            "text/plain": [
              "SGDRegressor(alpha=0.0001, average=False, early_stopping=False, epsilon=0.1,\n",
              "             eta0=0.01, fit_intercept=True, l1_ratio=0.15,\n",
              "             learning_rate='adaptive', loss='epsilon_insensitive',\n",
              "             max_iter=1000, n_iter_no_change=5, penalty='l1', power_t=0.25,\n",
              "             random_state=42, shuffle=True, tol=0.001, validation_fraction=0.1,\n",
              "             verbose=0, warm_start=False)"
            ]
          },
          "metadata": {
            "tags": []
          },
          "execution_count": 104
        }
      ]
    },
    {
      "cell_type": "markdown",
      "metadata": {
        "colab_type": "text",
        "id": "0_O88a_-nZg3"
      },
      "source": [
        "**Test model**:"
      ]
    },
    {
      "cell_type": "code",
      "metadata": {
        "colab_type": "code",
        "id": "98VvWCKYnZg3",
        "outputId": "9f2116a2-540b-41d0-bb39-bfaceea568ad",
        "colab": {
          "base_uri": "https://localhost:8080/",
          "height": 90
        }
      },
      "source": [
        "scores = cross_val_score(final_sgd_model, X_train, y_train,\n",
        "                         scoring=\"neg_mean_squared_error\", cv=10)\n",
        "tree_rmse_scores = np.sqrt(-scores)\n",
        "\n",
        "def display_scores(scores):\n",
        "    print(\"Scores:\", scores)\n",
        "    print(\"Mean:\", scores.mean())\n",
        "    print(\"Standard deviation:\", scores.std())\n",
        "\n",
        "display_scores(tree_rmse_scores)"
      ],
      "execution_count": 0,
      "outputs": [
        {
          "output_type": "stream",
          "text": [
            "Scores: [170.93236382 127.40438355 124.38806859 133.37693297 171.08313907\n",
            " 163.30791797 188.34013952 129.18103328 148.32006898 198.86141671]\n",
            "Mean: 155.5195464468873\n",
            "Standard deviation: 25.47866659560963\n"
          ],
          "name": "stdout"
        }
      ]
    },
    {
      "cell_type": "markdown",
      "metadata": {
        "colab_type": "text",
        "id": "_rrU8Ubej35Q"
      },
      "source": [
        "---\n",
        "## Evaluating Models"
      ]
    },
    {
      "cell_type": "code",
      "metadata": {
        "id": "VL1ohhKuuNil",
        "colab_type": "code",
        "colab": {}
      },
      "source": [
        "# Here are our models\n",
        "models = [lin_model, final_rf_model, final_sgd_model]\n",
        "d = {0: \"Linear Regression\", 1: \"Random Forest\", 2: \"SGD Regression\"}\n",
        "# Our confidence level\n",
        "confidence = 0.95"
      ],
      "execution_count": 0,
      "outputs": []
    },
    {
      "cell_type": "code",
      "metadata": {
        "id": "Rpa7SvQn3CTF",
        "colab_type": "code",
        "outputId": "a34cd450-96fa-42c2-9f74-914b05d57839",
        "colab": {
          "base_uri": "https://localhost:8080/",
          "height": 108
        }
      },
      "source": [
        "from sklearn.metrics import mean_squared_error\n",
        "from scipy import stats\n",
        "\n",
        "for i, model in enumerate(models):\n",
        "  # Get predictions and mse\n",
        "  final_predictions = model.predict(X_test)\n",
        "  final_mse = mean_squared_error(y_test, final_predictions)\n",
        "  # Get the rmse\n",
        "  final_rmse = np.sqrt(final_mse)\n",
        "  \n",
        "  # Calculate moe\n",
        "  squared_errors = (final_predictions - y_test) ** 2\n",
        "  moe = np.sqrt(stats.t.interval(confidence, len(squared_errors) - 1, loc=squared_errors.mean(), scale=stats.sem(squared_errors)))  \n",
        "\n",
        "  print(d[i], final_rmse, moe)\n",
        "  "
      ],
      "execution_count": 0,
      "outputs": [
        {
          "output_type": "stream",
          "text": [
            "Linear Regression 186.54066044922365 [ 78.11076267 251.97925462]\n",
            "Random Forest 65.5707203293066 [        nan 96.65891244]\n",
            "SGD Regression 194.60221215349387 [ 85.35312273 261.63884725]\n"
          ],
          "name": "stdout"
        },
        {
          "output_type": "stream",
          "text": [
            "/usr/local/lib/python3.6/dist-packages/ipykernel_launcher.py:13: RuntimeWarning: invalid value encountered in sqrt\n",
            "  del sys.path[0]\n"
          ],
          "name": "stderr"
        }
      ]
    },
    {
      "cell_type": "code",
      "metadata": {
        "id": "iXY8xbhTJqOa",
        "colab_type": "code",
        "colab": {}
      },
      "source": [
        ""
      ],
      "execution_count": 0,
      "outputs": []
    },
    {
      "cell_type": "markdown",
      "metadata": {
        "id": "6skx0c25bpdd",
        "colab_type": "text"
      },
      "source": [
        "---"
      ]
    },
    {
      "cell_type": "markdown",
      "metadata": {
        "id": "eKNadHOdP9NP",
        "colab_type": "text"
      },
      "source": [
        "# KMEANS Testing"
      ]
    },
    {
      "cell_type": "code",
      "metadata": {
        "id": "D52L9he8P85N",
        "colab_type": "code",
        "colab": {}
      },
      "source": [
        ""
      ],
      "execution_count": 0,
      "outputs": []
    }
  ]
}